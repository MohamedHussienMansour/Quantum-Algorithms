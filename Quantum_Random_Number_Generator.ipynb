{
 "cells": [
  {
   "cell_type": "code",
   "execution_count": 1,
   "metadata": {},
   "outputs": [],
   "source": [
    "import qiskit"
   ]
  },
  {
   "cell_type": "code",
   "execution_count": 2,
   "metadata": {},
   "outputs": [
    {
     "data": {
      "text/plain": [
       "'0.46.0'"
      ]
     },
     "execution_count": 2,
     "metadata": {},
     "output_type": "execute_result"
    }
   ],
   "source": [
    "qiskit.__version__"
   ]
  },
  {
   "cell_type": "code",
   "execution_count": null,
   "metadata": {},
   "outputs": [],
   "source": []
  },
  {
   "cell_type": "code",
   "execution_count": 6,
   "metadata": {},
   "outputs": [],
   "source": [
    "from qiskit import IBMQ\n"
   ]
  },
  {
   "cell_type": "code",
   "execution_count": null,
   "metadata": {},
   "outputs": [],
   "source": [
    "from qiskit import *\n",
    "\n",
    "# Create a quantum circuit with one qubit\n",
    "qc = QuantumCircuit(1)\n",
    "\n",
    "# Apply Hadamard gate to put the qubit in superposition\n",
    "qc.h(0)\n",
    "\n",
    "# Measure the qubit in the standard basis\n",
    "qc.measure(0, 0)\n",
    "\n",
    "# Simulate the circuit on a local backend\n",
    "simulator = Aer.get_backend('qasm_simulator')\n",
    "job = execute(qc, simulator, shots=1024)\n",
    "\n",
    "# Get the counts from the job\n",
    "counts = job.result().get_counts(qc)\n",
    "\n",
    "# Extract the most frequent bit value (0 or 1) as the random number\n",
    "random_bit = max(counts, key=counts.get)\n",
    "\n",
    "# Print the random bit (0 or 1)\n",
    "print(\"Random bit:\", random_bit)\n"
   ]
  },
  {
   "cell_type": "code",
   "execution_count": 7,
   "metadata": {},
   "outputs": [
    {
     "name": "stderr",
     "output_type": "stream",
     "text": [
      "C:\\Users\\20111\\AppData\\Local\\Temp\\ipykernel_31904\\62069772.py:16: DeprecationWarning: The 'qiskit.Aer' entry point is deprecated and will be removed in Qiskit 1.0. You should use 'qiskit_aer.Aer' directly instead.\n",
      "  simulator = Aer.get_backend('qasm_simulator')\n",
      "C:\\Users\\20111\\AppData\\Local\\Temp\\ipykernel_31904\\62069772.py:19: DeprecationWarning: Using a qobj for run() is deprecated as of qiskit-aer 0.14 and will be removed no sooner than 3 months from that release date. Transpiled circuits should now be passed directly using `backend.run(circuits, **run_options).\n",
      "  result = simulator.run(qobj).result()\n"
     ]
    },
    {
     "name": "stdout",
     "output_type": "stream",
     "text": [
      "Measurement outcomes: {'1': 496, '0': 528}\n"
     ]
    },
    {
     "name": "stderr",
     "output_type": "stream",
     "text": [
      "C:\\Users\\20111\\AppData\\Local\\Temp\\ipykernel_31904\\62069772.py:26: UserWarning: Matplotlib is currently using module://matplotlib_inline.backend_inline, which is a non-GUI backend, so cannot show the figure.\n",
      "  plot_histogram(counts).show()\n"
     ]
    }
   ],
   "source": [
    "# Import necessary libraries from Qiskit\n",
    "from qiskit import QuantumCircuit, transpile, assemble, execute,Aer\n",
    "from qiskit.visualization import plot_histogram\n",
    "\n",
    "\n",
    "# Create a quantum circuit with one qubit and one classical bit\n",
    "qc = QuantumCircuit(1, 1)\n",
    "\n",
    "# Apply a Hadamard gate to the qubit to create a superposition\n",
    "qc.h(0)\n",
    "\n",
    "# Measure the qubit\n",
    "qc.measure(0, 0)\n",
    "\n",
    "# Use the Aer simulator to run the circuit\n",
    "simulator = Aer.get_backend('qasm_simulator')\n",
    "compiled_circuit = transpile(qc, simulator)\n",
    "qobj = assemble(compiled_circuit)\n",
    "result = simulator.run(qobj).result()\n",
    "\n",
    "# Get the measurement counts\n",
    "counts = result.get_counts(qc)\n",
    "\n",
    "# Print the results\n",
    "print(\"Measurement outcomes:\", counts)\n",
    "plot_histogram(counts).show()\n",
    "\n"
   ]
  },
  {
   "cell_type": "code",
   "execution_count": null,
   "metadata": {},
   "outputs": [],
   "source": [
    "# Import necessary libraries from Qiskit\n",
    "from qiskit import QuantumCircuit, Aer, transpile, execute, IBMQ\n",
    "from qiskit.visualization import plot_histogram, state_visualization\n",
    "import matplotlib.pyplot as plt\n",
    "\n",
    "# # Load IBMQ account\n",
    "# # IBMQ.save_account('YOUR_API_TOKEN')  # Uncomment and replace with your actual API token\n",
    "# IBMQ.load_account()\n",
    "\n",
    "# # Get the provider and backend\n",
    "# provider = IBMQ.get_provider(hub='ibm-q')\n",
    "backend = provider.get_backend('ibmq_quito')  # Replace with an available backend or 'qasm_simulator' for simulation\n",
    "\n",
    "# Create a quantum circuit with three qubits and three classical bits\n",
    "qc = QuantumCircuit(3, 3)\n",
    "\n",
    "# Step 1: Prepare the initial state of qubit 0 (Alice's qubit)\n",
    "# This can be any arbitrary state. For simplicity, let's prepare a |+> state\n",
    "qc.h(0)  # Hadamard gate to create a superposition state\n",
    "\n",
    "# Step 2: Create entanglement between qubit 1 (Alice's entanglement qubit) and qubit 2 (Bob's qubit)\n",
    "qc.h(1)\n",
    "qc.cx(1, 2)\n",
    "\n",
    "# Step 3: Bell measurement on qubits 0 and 1\n",
    "qc.cx(0, 1)\n",
    "qc.h(0)\n",
    "qc.barrier()\n",
    "qc.measure([0, 1], [0, 1])\n",
    "\n",
    "# Step 4: Apply corrections to qubit 2 based on measurement outcomes\n",
    "qc.cx(1, 2)\n",
    "qc.cz(0, 2)\n",
    "\n",
    "# Step 5: Measure the final state of qubit 2 (Bob's qubit)\n",
    "qc.measure(2, 2)\n",
    "\n",
    "# Transpile and execute the circuit on the chosen backend\n",
    "compiled_circuit = transpile(qc, backend)\n",
    "job = backend.run(compiled_circuit)\n",
    "result = job.result()\n",
    "\n",
    "# Get the measurement counts\n",
    "counts = result.get_counts(qc)\n",
    "\n",
    "# Print the results\n",
    "print(\"Measurement outcomes:\", counts)\n",
    "\n",
    "# Plot the histogram\n",
    "plot_histogram(counts)\n",
    "plt.show()\n"
   ]
  },
  {
   "cell_type": "code",
   "execution_count": 9,
   "metadata": {},
   "outputs": [
    {
     "name": "stdout",
     "output_type": "stream",
     "text": [
      "Quantum Circuit:\n",
      "     ┌───┐     ┌───┐┌───┐┌─┐\n",
      "q_0: ┤ H ├──■──┤ X ├┤ Z ├┤M├\n",
      "     └───┘┌─┴─┐├───┤└┬─┬┘└╥┘\n",
      "q_1: ─────┤ X ├┤ Y ├─┤M├──╫─\n",
      "          └───┘└───┘ └╥┘  ║ \n",
      "c: 2/═════════════════╩═══╩═\n",
      "                      1   0 \n",
      "Measurement outcomes: {'11': 494, '00': 530}\n",
      "Statevector visualization:\n"
     ]
    },
    {
     "name": "stderr",
     "output_type": "stream",
     "text": [
      "C:\\Users\\20111\\AppData\\Local\\Temp\\ipykernel_31904\\483597624.py:26: DeprecationWarning: The function ``qiskit.execute_function.execute()`` is deprecated as of qiskit 0.46.0. It will be removed in the Qiskit 1.0 release. This function combines ``transpile`` and ``backend.run``, which is covered by ``Sampler`` :mod:`~qiskit.primitives`. Alternatively, you can also run :func:`.transpile` followed by ``backend.run()``.\n",
      "  result = execute(qc, backend=simulator, shots=1024).result()\n",
      "C:\\Users\\20111\\AppData\\Local\\Temp\\ipykernel_31904\\483597624.py:33: UserWarning: Matplotlib is currently using module://matplotlib_inline.backend_inline, which is a non-GUI backend, so cannot show the figure.\n",
      "  plot_histogram(counts).show()\n",
      "C:\\Users\\20111\\AppData\\Local\\Temp\\ipykernel_31904\\483597624.py:37: DeprecationWarning: The function ``qiskit.execute_function.execute()`` is deprecated as of qiskit 0.46.0. It will be removed in the Qiskit 1.0 release. This function combines ``transpile`` and ``backend.run``, which is covered by ``Sampler`` :mod:`~qiskit.primitives`. Alternatively, you can also run :func:`.transpile` followed by ``backend.run()``.\n",
      "  result_statevector = execute(qc, backend=statevector_simulator).result()\n",
      "C:\\Users\\20111\\AppData\\Local\\Temp\\ipykernel_31904\\483597624.py:42: UserWarning: Matplotlib is currently using module://matplotlib_inline.backend_inline, which is a non-GUI backend, so cannot show the figure.\n",
      "  plot_bloch_multivector(statevector).show()\n"
     ]
    }
   ],
   "source": [
    "# Import necessary libraries from Qiskit\n",
    "from qiskit import QuantumCircuit, Aer, transpile, assemble, execute\n",
    "from qiskit.visualization import plot_histogram, plot_bloch_multivector\n",
    "\n",
    "# Create a quantum circuit with two qubits and two classical bits\n",
    "qc = QuantumCircuit(2, 2)\n",
    "\n",
    "# Apply various quantum gates\n",
    "qc.h(0)        # Apply Hadamard gate on qubit 0\n",
    "qc.cx(0, 1)    # Apply CNOT gate with control qubit 0 and target qubit 1\n",
    "qc.x(0)        # Apply Pauli-X gate on qubit 0\n",
    "qc.y(1)        # Apply Pauli-Y gate on qubit 1\n",
    "qc.z(0)        # Apply Pauli-Z gate on qubit 0\n",
    "\n",
    "# Measure the qubits\n",
    "qc.measure([0, 1], [0, 1])\n",
    "\n",
    "# Draw the quantum circuit\n",
    "print(\"Quantum Circuit:\")\n",
    "print(qc.draw())\n",
    "\n",
    "# Use the Aer simulator to run the circuit\n",
    "simulator = Aer.get_backend('qasm_simulator')\n",
    "compiled_circuit = transpile(qc, simulator)\n",
    "qobj = assemble(compiled_circuit)\n",
    "result = execute(qc, backend=simulator, shots=1024).result()\n",
    "\n",
    "# Get the measurement counts\n",
    "counts = result.get_counts(qc)\n",
    "\n",
    "# Print the results\n",
    "print(\"Measurement outcomes:\", counts)\n",
    "plot_histogram(counts).show()\n",
    "\n",
    "# Use the Aer simulator to get the state vector\n",
    "statevector_simulator = Aer.get_backend('statevector_simulator')\n",
    "result_statevector = execute(qc, backend=statevector_simulator).result()\n",
    "statevector = result_statevector.get_statevector()\n",
    "\n",
    "# Visualize the state vector on the Bloch sphere\n",
    "print(\"Statevector visualization:\")\n",
    "plot_bloch_multivector(statevector).show()\n"
   ]
  },
  {
   "cell_type": "code",
   "execution_count": 25,
   "metadata": {},
   "outputs": [
    {
     "name": "stdout",
     "output_type": "stream",
     "text": [
      "Measurement outcomes: {'0': 508, '1': 516}\n"
     ]
    },
    {
     "data": {
      "image/png": "[encoded data removed]",
      "text/plain": [
       "<Figure size 200x200 with 1 Axes>"
      ]
     },
     "execution_count": 25,
     "metadata": {},
     "output_type": "execute_result"
    }
   ],
   "source": [
    "# Import necessary libraries from Qiskit\n",
    "from qiskit import QuantumCircuit, Aer, transpile, assemble, execute,IBMQ\n",
    "from qiskit.visualization import plot_histogram\n",
    "import matplotlib.pyplot as plt\n",
    "\n",
    "\n",
    "# Create a quantum circuit with one qubit and one classical bit\n",
    "qc = QuantumCircuit(1, 1)\n",
    "\n",
    "# Apply a Hadamard gate to the qubit to create a superposition\n",
    "qc.h(0)\n",
    "\n",
    "# Measure the qubit\n",
    "qc.measure(0, 0)\n",
    "\n",
    "# Use the Aer simulator to run the circuit\n",
    "simulator = Aer.get_backend('qasm_simulator')\n",
    "compiled_circuit = transpile(qc, simulator)\n",
    "# qobj = assemble(compiled_circuit)\n",
    "# result = simulator.run(qobj).result()\n",
    "result = simulator.run(compiled_circuit).result()\n",
    "\n",
    "# Get the measurement counts\n",
    "counts = result.get_counts(qc)\n",
    "\n",
    "# Print the results\n",
    "print(\"Measurement outcomes:\", counts)\n",
    "%matplotlib inline\n",
    "plot_histogram(counts,figsize=(2,2))\n",
    "\n"
   ]
  },
  {
   "cell_type": "code",
   "execution_count": 11,
   "metadata": {},
   "outputs": [
    {
     "data": {
      "text/html": [
       "<pre style=\"word-wrap: normal;white-space: pre;background: #fff0;line-height: 1.1;font-family: &quot;Courier New&quot;,Courier,monospace\">     ┌───┐┌─┐\n",
       "  q: ┤ H ├┤M├\n",
       "     └───┘└╥┘\n",
       "c: 1/══════╩═\n",
       "           0 </pre>"
      ],
      "text/plain": [
       "     ┌───┐┌─┐\n",
       "  q: ┤ H ├┤M├\n",
       "     └───┘└╥┘\n",
       "c: 1/══════╩═\n",
       "           0 "
      ]
     },
     "execution_count": 11,
     "metadata": {},
     "output_type": "execute_result"
    }
   ],
   "source": [
    "qc.draw()"
   ]
  },
  {
   "cell_type": "code",
   "execution_count": null,
   "metadata": {},
   "outputs": [],
   "source": []
  },
  {
   "cell_type": "code",
   "execution_count": null,
   "metadata": {},
   "outputs": [],
   "source": [
    "# Import necessary libraries from Qiskit\n",
    "from qiskit import QuantumCircuit, Aer, transpile, execute, IBMQ\n",
    "from qiskit.visualization import plot_histogram\n",
    "import matplotlib.pyplot as plt\n",
    "\n",
    "# Ensure matplotlib inline mode is enabled\n",
    "%matplotlib inline\n",
    "\n",
    "# Create a quantum circuit with one qubit and one classical bit\n",
    "qc = QuantumCircuit(1, 1)\n",
    "\n",
    "# Apply a Hadamard gate to the qubit to create a superposition\n",
    "qc.h(0)\n",
    "\n",
    "# Measure the qubit\n",
    "qc.measure(0, 0)\n",
    "\n",
    "# Load IBMQ account\n",
    "IBMQ.save_account('e660cb444ea7fa3af943860a06f893f1e03b8600c7aafac65d4ba9e6664e54e8cae0cf57be4c1308d785a3e0575ca09c4519e482fc07647b9173d95fd0f8aa9a')  # Replace 'YOUR_API_TOKEN' with your actual API token\n",
    "IBMQ.load_account()\n",
    "\n",
    "# Get the provider and backend\n",
    "provider = IBMQ.get_provider(hub='ibm-q')\n",
    "backend = provider.get_backend('ibmq_quito')  # Replace with an available backend\n",
    "\n",
    "# Transpile the circuit for the chosen backend\n",
    "compiled_circuit = transpile(qc, backend)\n",
    "\n",
    "# Run the circuit on the real quantum device\n",
    "job = backend.run(compiled_circuit)\n",
    "\n",
    "# Get the job result\n",
    "result = job.result()\n",
    "\n",
    "# Get the measurement counts\n",
    "counts = result.get_counts(qc)\n",
    "\n",
    "# Print the results\n",
    "print(\"Measurement outcomes:\", counts)\n",
    "\n",
    "# Plot the histogram\n",
    "plot_histogram(counts)\n",
    "plt.show()\n"
   ]
  },
  {
   "cell_type": "code",
   "execution_count": null,
   "metadata": {},
   "outputs": [
    {
     "name": "stderr",
     "output_type": "stream",
     "text": [
      "C:\\Users\\20111\\AppData\\Local\\Temp\\ipykernel_23624\\1846384406.py:3: DeprecationWarning: The function ``qiskit.execute_function.execute()`` is deprecated as of qiskit 0.46.0. It will be removed in the Qiskit 1.0 release. This function combines ``transpile`` and ``backend.run``, which is covered by ``Sampler`` :mod:`~qiskit.primitives`. Alternatively, you can also run :func:`.transpile` followed by ``backend.run()``.\n",
      "  result=execute(circuit,backend=simulator,shots=1024)\n"
     ]
    }
   ],
   "source": [
    "circuit.measure(2,2)\n",
    "simulator=Aer.get_backend(\"qasm_simulator\")\n",
    "result=execute(circuit,backend=simulator,shots=1024)"
   ]
  }
 ],
 "metadata": {
  "kernelspec": {
   "display_name": "Python 3",
   "language": "python",
   "name": "python3"
  },
  "language_info": {
   "codemirror_mode": {
    "name": "ipython",
    "version": 3
   },
   "file_extension": ".py",
   "mimetype": "text/x-python",
   "name": "python",
   "nbconvert_exporter": "python",
   "pygments_lexer": "ipython3",
   "version": "3.10.6"
  }
 },
 "nbformat": 4,
 "nbformat_minor": 2
}
